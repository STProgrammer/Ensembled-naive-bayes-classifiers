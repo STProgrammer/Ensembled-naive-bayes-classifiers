{
 "cells": [
  {
   "cell_type": "markdown",
   "metadata": {},
   "source": [
    "# Answer to graded assignment 2 in DTE-2501 (AI Methods and Applications) about ensemble methods by Abdullah Karagøz"
   ]
  },
  {
   "cell_type": "markdown",
   "metadata": {},
   "source": [
    "## 1. Bootstrapping"
   ]
  },
  {
   "cell_type": "code",
   "execution_count": 247,
   "metadata": {},
   "outputs": [],
   "source": [
    "import pandas as pd\n",
    "from math import sqrt\n",
    "from math import pi\n",
    "from math import exp\n",
    "from math import log\n",
    "\n",
    "seed = 15\n",
    "\n",
    "# Load the data\n",
    "dataset = pd.read_csv('iris.data', header=None, names=['sepal length', 'sepal width',\n",
    "                                                     'petal length', 'petal width',\n",
    "                                                     'class'])"
   ]
  },
  {
   "cell_type": "code",
   "execution_count": 248,
   "metadata": {},
   "outputs": [],
   "source": [
    "#Assign label to each class\n",
    "dataset.loc[dataset['class'] == 'Iris-setosa', dataset.columns == 'class'] = 0\n",
    "dataset.loc[dataset['class'] == 'Iris-versicolor', dataset.columns == 'class'] = 1\n",
    "dataset.loc[dataset['class'] == 'Iris-virginica', dataset.columns == 'class'] = 2"
   ]
  },
  {
   "cell_type": "code",
   "execution_count": 252,
   "metadata": {},
   "outputs": [],
   "source": [
    "# Shuffle and split data into training 80% and testing 20%\n",
    "train_set = dataset.sample(frac=0.8, random_state=seed)\n",
    "test_set = dataset.drop(train_set.index)\n",
    "train_set.reset_index(drop=True, inplace=True)\n",
    "test_set.reset_index(drop=True, inplace=True)\n",
    "\n"
   ]
  },
  {
   "cell_type": "code",
   "execution_count": 253,
   "metadata": {},
   "outputs": [
    {
     "data": {
      "text/html": [
       "<div>\n",
       "<style scoped>\n",
       "    .dataframe tbody tr th:only-of-type {\n",
       "        vertical-align: middle;\n",
       "    }\n",
       "\n",
       "    .dataframe tbody tr th {\n",
       "        vertical-align: top;\n",
       "    }\n",
       "\n",
       "    .dataframe thead th {\n",
       "        text-align: right;\n",
       "    }\n",
       "</style>\n",
       "<table border=\"1\" class=\"dataframe\">\n",
       "  <thead>\n",
       "    <tr style=\"text-align: right;\">\n",
       "      <th></th>\n",
       "      <th>sepal length</th>\n",
       "      <th>sepal width</th>\n",
       "      <th>petal length</th>\n",
       "      <th>petal width</th>\n",
       "      <th>class</th>\n",
       "    </tr>\n",
       "  </thead>\n",
       "  <tbody>\n",
       "    <tr>\n",
       "      <th>0</th>\n",
       "      <td>4.9</td>\n",
       "      <td>3.0</td>\n",
       "      <td>1.4</td>\n",
       "      <td>0.2</td>\n",
       "      <td>0</td>\n",
       "    </tr>\n",
       "    <tr>\n",
       "      <th>1</th>\n",
       "      <td>5.4</td>\n",
       "      <td>3.7</td>\n",
       "      <td>1.5</td>\n",
       "      <td>0.2</td>\n",
       "      <td>0</td>\n",
       "    </tr>\n",
       "    <tr>\n",
       "      <th>2</th>\n",
       "      <td>5.7</td>\n",
       "      <td>4.4</td>\n",
       "      <td>1.5</td>\n",
       "      <td>0.4</td>\n",
       "      <td>0</td>\n",
       "    </tr>\n",
       "    <tr>\n",
       "      <th>3</th>\n",
       "      <td>5.1</td>\n",
       "      <td>3.5</td>\n",
       "      <td>1.4</td>\n",
       "      <td>0.3</td>\n",
       "      <td>0</td>\n",
       "    </tr>\n",
       "    <tr>\n",
       "      <th>4</th>\n",
       "      <td>5.1</td>\n",
       "      <td>3.8</td>\n",
       "      <td>1.5</td>\n",
       "      <td>0.3</td>\n",
       "      <td>0</td>\n",
       "    </tr>\n",
       "    <tr>\n",
       "      <th>5</th>\n",
       "      <td>5.1</td>\n",
       "      <td>3.3</td>\n",
       "      <td>1.7</td>\n",
       "      <td>0.5</td>\n",
       "      <td>0</td>\n",
       "    </tr>\n",
       "    <tr>\n",
       "      <th>6</th>\n",
       "      <td>5.0</td>\n",
       "      <td>3.4</td>\n",
       "      <td>1.6</td>\n",
       "      <td>0.4</td>\n",
       "      <td>0</td>\n",
       "    </tr>\n",
       "    <tr>\n",
       "      <th>7</th>\n",
       "      <td>4.9</td>\n",
       "      <td>3.1</td>\n",
       "      <td>1.5</td>\n",
       "      <td>0.1</td>\n",
       "      <td>0</td>\n",
       "    </tr>\n",
       "    <tr>\n",
       "      <th>8</th>\n",
       "      <td>4.9</td>\n",
       "      <td>3.1</td>\n",
       "      <td>1.5</td>\n",
       "      <td>0.1</td>\n",
       "      <td>0</td>\n",
       "    </tr>\n",
       "    <tr>\n",
       "      <th>9</th>\n",
       "      <td>5.1</td>\n",
       "      <td>3.4</td>\n",
       "      <td>1.5</td>\n",
       "      <td>0.2</td>\n",
       "      <td>0</td>\n",
       "    </tr>\n",
       "    <tr>\n",
       "      <th>10</th>\n",
       "      <td>5.1</td>\n",
       "      <td>3.8</td>\n",
       "      <td>1.9</td>\n",
       "      <td>0.4</td>\n",
       "      <td>0</td>\n",
       "    </tr>\n",
       "    <tr>\n",
       "      <th>11</th>\n",
       "      <td>7.0</td>\n",
       "      <td>3.2</td>\n",
       "      <td>4.7</td>\n",
       "      <td>1.4</td>\n",
       "      <td>1</td>\n",
       "    </tr>\n",
       "    <tr>\n",
       "      <th>12</th>\n",
       "      <td>5.5</td>\n",
       "      <td>2.3</td>\n",
       "      <td>4.0</td>\n",
       "      <td>1.3</td>\n",
       "      <td>1</td>\n",
       "    </tr>\n",
       "    <tr>\n",
       "      <th>13</th>\n",
       "      <td>6.3</td>\n",
       "      <td>3.3</td>\n",
       "      <td>4.7</td>\n",
       "      <td>1.6</td>\n",
       "      <td>1</td>\n",
       "    </tr>\n",
       "    <tr>\n",
       "      <th>14</th>\n",
       "      <td>6.0</td>\n",
       "      <td>2.2</td>\n",
       "      <td>4.0</td>\n",
       "      <td>1.0</td>\n",
       "      <td>1</td>\n",
       "    </tr>\n",
       "    <tr>\n",
       "      <th>15</th>\n",
       "      <td>6.7</td>\n",
       "      <td>3.1</td>\n",
       "      <td>4.4</td>\n",
       "      <td>1.4</td>\n",
       "      <td>1</td>\n",
       "    </tr>\n",
       "    <tr>\n",
       "      <th>16</th>\n",
       "      <td>6.6</td>\n",
       "      <td>3.0</td>\n",
       "      <td>4.4</td>\n",
       "      <td>1.4</td>\n",
       "      <td>1</td>\n",
       "    </tr>\n",
       "    <tr>\n",
       "      <th>17</th>\n",
       "      <td>5.7</td>\n",
       "      <td>2.6</td>\n",
       "      <td>3.5</td>\n",
       "      <td>1.0</td>\n",
       "      <td>1</td>\n",
       "    </tr>\n",
       "    <tr>\n",
       "      <th>18</th>\n",
       "      <td>6.0</td>\n",
       "      <td>3.4</td>\n",
       "      <td>4.5</td>\n",
       "      <td>1.6</td>\n",
       "      <td>1</td>\n",
       "    </tr>\n",
       "    <tr>\n",
       "      <th>19</th>\n",
       "      <td>5.7</td>\n",
       "      <td>2.9</td>\n",
       "      <td>4.2</td>\n",
       "      <td>1.3</td>\n",
       "      <td>1</td>\n",
       "    </tr>\n",
       "    <tr>\n",
       "      <th>20</th>\n",
       "      <td>7.1</td>\n",
       "      <td>3.0</td>\n",
       "      <td>5.9</td>\n",
       "      <td>2.1</td>\n",
       "      <td>2</td>\n",
       "    </tr>\n",
       "    <tr>\n",
       "      <th>21</th>\n",
       "      <td>6.5</td>\n",
       "      <td>3.0</td>\n",
       "      <td>5.8</td>\n",
       "      <td>2.2</td>\n",
       "      <td>2</td>\n",
       "    </tr>\n",
       "    <tr>\n",
       "      <th>22</th>\n",
       "      <td>7.6</td>\n",
       "      <td>3.0</td>\n",
       "      <td>6.6</td>\n",
       "      <td>2.1</td>\n",
       "      <td>2</td>\n",
       "    </tr>\n",
       "    <tr>\n",
       "      <th>23</th>\n",
       "      <td>5.8</td>\n",
       "      <td>2.8</td>\n",
       "      <td>5.1</td>\n",
       "      <td>2.4</td>\n",
       "      <td>2</td>\n",
       "    </tr>\n",
       "    <tr>\n",
       "      <th>24</th>\n",
       "      <td>7.7</td>\n",
       "      <td>2.6</td>\n",
       "      <td>6.9</td>\n",
       "      <td>2.3</td>\n",
       "      <td>2</td>\n",
       "    </tr>\n",
       "    <tr>\n",
       "      <th>25</th>\n",
       "      <td>6.0</td>\n",
       "      <td>2.2</td>\n",
       "      <td>5.0</td>\n",
       "      <td>1.5</td>\n",
       "      <td>2</td>\n",
       "    </tr>\n",
       "    <tr>\n",
       "      <th>26</th>\n",
       "      <td>6.4</td>\n",
       "      <td>2.8</td>\n",
       "      <td>5.6</td>\n",
       "      <td>2.1</td>\n",
       "      <td>2</td>\n",
       "    </tr>\n",
       "    <tr>\n",
       "      <th>27</th>\n",
       "      <td>6.3</td>\n",
       "      <td>2.8</td>\n",
       "      <td>5.1</td>\n",
       "      <td>1.5</td>\n",
       "      <td>2</td>\n",
       "    </tr>\n",
       "    <tr>\n",
       "      <th>28</th>\n",
       "      <td>6.7</td>\n",
       "      <td>3.1</td>\n",
       "      <td>5.6</td>\n",
       "      <td>2.4</td>\n",
       "      <td>2</td>\n",
       "    </tr>\n",
       "    <tr>\n",
       "      <th>29</th>\n",
       "      <td>6.7</td>\n",
       "      <td>3.0</td>\n",
       "      <td>5.2</td>\n",
       "      <td>2.3</td>\n",
       "      <td>2</td>\n",
       "    </tr>\n",
       "  </tbody>\n",
       "</table>\n",
       "</div>"
      ],
      "text/plain": [
       "    sepal length  sepal width  petal length  petal width class\n",
       "0            4.9          3.0           1.4          0.2     0\n",
       "1            5.4          3.7           1.5          0.2     0\n",
       "2            5.7          4.4           1.5          0.4     0\n",
       "3            5.1          3.5           1.4          0.3     0\n",
       "4            5.1          3.8           1.5          0.3     0\n",
       "5            5.1          3.3           1.7          0.5     0\n",
       "6            5.0          3.4           1.6          0.4     0\n",
       "7            4.9          3.1           1.5          0.1     0\n",
       "8            4.9          3.1           1.5          0.1     0\n",
       "9            5.1          3.4           1.5          0.2     0\n",
       "10           5.1          3.8           1.9          0.4     0\n",
       "11           7.0          3.2           4.7          1.4     1\n",
       "12           5.5          2.3           4.0          1.3     1\n",
       "13           6.3          3.3           4.7          1.6     1\n",
       "14           6.0          2.2           4.0          1.0     1\n",
       "15           6.7          3.1           4.4          1.4     1\n",
       "16           6.6          3.0           4.4          1.4     1\n",
       "17           5.7          2.6           3.5          1.0     1\n",
       "18           6.0          3.4           4.5          1.6     1\n",
       "19           5.7          2.9           4.2          1.3     1\n",
       "20           7.1          3.0           5.9          2.1     2\n",
       "21           6.5          3.0           5.8          2.2     2\n",
       "22           7.6          3.0           6.6          2.1     2\n",
       "23           5.8          2.8           5.1          2.4     2\n",
       "24           7.7          2.6           6.9          2.3     2\n",
       "25           6.0          2.2           5.0          1.5     2\n",
       "26           6.4          2.8           5.6          2.1     2\n",
       "27           6.3          2.8           5.1          1.5     2\n",
       "28           6.7          3.1           5.6          2.4     2\n",
       "29           6.7          3.0           5.2          2.3     2"
      ]
     },
     "execution_count": 253,
     "metadata": {},
     "output_type": "execute_result"
    }
   ],
   "source": [
    "train_set[train_set['class']==0].iloc[:,0].values.tolist()\n",
    "\n",
    "test_set"
   ]
  },
  {
   "cell_type": "markdown",
   "metadata": {},
   "source": [
    "### Naive Bayes Classifier"
   ]
  },
  {
   "cell_type": "code",
   "execution_count": 254,
   "metadata": {},
   "outputs": [],
   "source": [
    "# Naive Bayes Classifier\n",
    "class NaiveBayesClassifier():\n",
    "    def __init__(self):\n",
    "        self.dataset = 0\n",
    "        self.mean_values = 0\n",
    "        self.std_values = 0\n",
    "        self.prior_class_probabilities = 0\n",
    "        self.nr_of_classes = 0\n",
    "        self.nr_of_attributes = 0\n",
    "        \n",
    "    def fit(self, train_set, in_ensemble=False, nr_of_classes = 0,\n",
    "            nr_of_attributes=0):\n",
    "        self.dataset = train_set\n",
    "        \n",
    "        # calculating mean, std values and prior probabilities\n",
    "        \n",
    "        # if not in ensemble, we calculate these values\n",
    "        if not in_ensemble:\n",
    "            self.nr_of_classes=train_set.groupby('class').ngroups\n",
    "            self.nr_of_attributes=len(train_set.iloc[0,:-1])\n",
    "        else:\n",
    "            self.nr_of_classes = nr_of_classes\n",
    "            self.nr_of_attributes = nr_of_attributes\n",
    "        \n",
    "        # Here we keep mean, std and prior class probability values\n",
    "        self.mean_values = list()\n",
    "        self.std_values = list()\n",
    "        self.prior_class_probs = list()\n",
    "        \n",
    "        for i in range(self.nr_of_classes):\n",
    "            class_values = train_set[train_set['class'] == i]\n",
    "            prior_class_prob = len(class_values) / len(train_set)\n",
    "            self.prior_class_probs.append(prior_class_prob)\n",
    "            mean_values = list()\n",
    "            std_values = list()   \n",
    "            for j in range(self.nr_of_attributes):\n",
    "                values = class_values.iloc[:,j].values.tolist()\n",
    "                std, mean = self.std_and_mean(values)\n",
    "                mean_values.append(mean)\n",
    "                std_values.append(std)\n",
    "            self.mean_values.append(mean_values)\n",
    "            self.std_values.append(std_values)\n",
    "            \n",
    "\n",
    "\n",
    "    def mean(self, val_list):\n",
    "        return sum(val_list) / len(val_list)\n",
    "    \n",
    "    def std_and_mean(self, val_list):\n",
    "        mu = self.mean(val_list)\n",
    "        std = sqrt(sum([(x - mu)**2 for x in val_list]) / (len(val_list)-1))\n",
    "        return std, mu\n",
    "        \n",
    "    \n",
    "    def gaussian_pdf(self, x, mu, sd):\n",
    "        return (1 / (sd*sqrt(2*pi))) * exp(-0.5*((x-mu)/sd)**2)\n",
    "    \n",
    "    \n",
    "    def pred_row(self, row, log_prob = False):\n",
    "        probs = self.nr_of_classes*[0]  \n",
    "        if log_prob:\n",
    "            for i in range(self.nr_of_classes):\n",
    "                probs[i] = log(self.prior_class_probs[i])\n",
    "                for j in range(len(row)):\n",
    "                    probs[i] += log(self.gaussian_pdf(row[j], self.mean_values[i][j], self.std_values[i][j]))\n",
    "        \n",
    "        else: \n",
    "            for i in range(self.nr_of_classes):\n",
    "                probs[i] = self.prior_class_probs[i]\n",
    "                for j in range(len(row)):\n",
    "                    probs[i] *= self.gaussian_pdf(row[j], self.mean_values[i][j], self.std_values[i][j])\n",
    "        \n",
    "        prediction = probs.index(max(probs))\n",
    "        return probs, prediction   \n",
    "    \n",
    "    def predict(self, test_set, log_prob = False):\n",
    "        X_test = test_set.iloc[:, :-1].values.tolist()\n",
    "        Y_test = test_set.iloc[:, -1].values.tolist()\n",
    "        probabilities = list()\n",
    "        corrects = 0\n",
    "        for x, y in zip(X_test, Y_test):\n",
    "            prob, pred = self.pred_row(x, log_prob)\n",
    "            probabilities.append(prob)\n",
    "            if pred == y:\n",
    "                corrects += 1    \n",
    "        accuracy = corrects / len(Y_test)\n",
    "        return probabilities, accuracy"
   ]
  },
  {
   "cell_type": "code",
   "execution_count": 255,
   "metadata": {},
   "outputs": [],
   "source": [
    "nbc = NaiveBayesClassifier()\n",
    "nbc.fit(train_set)"
   ]
  },
  {
   "cell_type": "code",
   "execution_count": 257,
   "metadata": {},
   "outputs": [
    {
     "name": "stdout",
     "output_type": "stream",
     "text": [
      "0.9333333333333333\n"
     ]
    }
   ],
   "source": [
    "probabilities, accuracy = nbc.predict(test_set)\n",
    "print(accuracy)"
   ]
  },
  {
   "cell_type": "code",
   "execution_count": null,
   "metadata": {},
   "outputs": [],
   "source": []
  },
  {
   "cell_type": "markdown",
   "metadata": {},
   "source": [
    "### Ensembled Classifier"
   ]
  },
  {
   "cell_type": "code",
   "execution_count": 290,
   "metadata": {},
   "outputs": [],
   "source": [
    "class EnsembledNBClassifier():\n",
    "    def __init__(self, nr_of_classes):\n",
    "        self.classifiers = list()\n",
    "        for i in range(nr_of_classes):\n",
    "            self.classifiers.append(NaiveBayesClassifier())\n",
    "    \n",
    "    def fit(self, train_set, seed=None):\n",
    "        self.nr_of_classes=train_set.groupby('class').ngroups\n",
    "        self.nr_of_attributes=len(train_set.iloc[0,:-1])\n",
    "        for cl in self.classifiers:\n",
    "            bag = train_set.sample(frac=1, replace=True, random_state=seed).reset_index(drop=True)\n",
    "            cl.fit(bag, True, self.nr_of_classes, self.nr_of_attributes)\n",
    "        \n",
    "    \n",
    "    def predict(self, test_set, log_prob = False, majority_vote = False):\n",
    "        X_test = test_set.iloc[:, :-1].values.tolist()\n",
    "        Y_test = test_set.iloc[:, -1].values.tolist()\n",
    "\n",
    "        corrects = 0\n",
    "        for x, y in zip(X_test, Y_test):\n",
    "            preds = list()\n",
    "            probs = list()\n",
    "\n",
    "            for cl in self.classifiers:\n",
    "                prob, pred = cl.pred_row(x, log_prob)\n",
    "                preds.append(pred)\n",
    "                probs.append(prob)\n",
    "            if majority_vote:\n",
    "                prediction = max(set(preds), key = preds.count)\n",
    "            else:\n",
    "                if log_prob:           \n",
    "                    agg_probs = [sum(x)/len(probs) for x in zip(*probs)]\n",
    "                else:\n",
    "                    agg_probs = self.nr_of_classes*[1]\n",
    "                    for i in range(len(probs[0])):\n",
    "                        for j in range(len(probs)):\n",
    "                            agg_probs[i] *= probs[j][i]\n",
    "                        agg_probs[i] = agg_probs[i]**(1/len(probs))\n",
    "                    print(\"agg_probs\", agg_probs)\n",
    "                prediction = agg_probs.index(max(agg_probs))\n",
    "            if prediction == y:\n",
    "                corrects += 1\n",
    "                \n",
    "                \n",
    "        accuracy = corrects / len(Y_test)\n",
    "        return accuracy \n",
    "        \n",
    "        "
   ]
  },
  {
   "cell_type": "markdown",
   "metadata": {},
   "source": [
    "## Testing and validation"
   ]
  },
  {
   "cell_type": "code",
   "execution_count": 296,
   "metadata": {},
   "outputs": [
    {
     "name": "stdout",
     "output_type": "stream",
     "text": [
      "Accuracy 0.9333333333333333\n",
      "Accuracy with log 0.9333333333333333\n"
     ]
    }
   ],
   "source": [
    "# Testing simple Naive Bayes Classifier\n",
    "nbc = NaiveBayesClassifier()\n",
    "nbc.fit(train_set)\n",
    "\n",
    "_, accuracy = nbc.predict(test_set)\n",
    "print(\"Accuracy\", accuracy)\n",
    "\n",
    "_, accuracy_log = nbc.predict(test_set, log_prob=True)\n",
    "print(\"Accuracy with log\", accuracy_log)"
   ]
  },
  {
   "cell_type": "code",
   "execution_count": 294,
   "metadata": {},
   "outputs": [
    {
     "name": "stdout",
     "output_type": "stream",
     "text": [
      "agg_probs [1.9157695676670417, 3.4977221165893038e-19, 3.299040510336957e-27]\n",
      "agg_probs [0.9313989305836752, 1.5190240218083504e-20, 9.03529068652365e-27]\n",
      "agg_probs [0.0009847571288435434, 2.5794377381435236e-23, 4.4874800181531494e-27]\n",
      "agg_probs [2.46145292645995, 5.134649200519097e-19, 3.7304969046409744e-26]\n",
      "agg_probs [1.2626721263179725, 4.1841137794207576e-20, 2.76042823449782e-26]\n",
      "agg_probs [0.014586182891401851, 5.275802932126866e-14, 8.203526507226078e-22]\n",
      "agg_probs [0.4537379984346911, 2.9431892341491976e-16, 9.242627273148057e-24]\n",
      "agg_probs [0.8719209038493538, 2.4925772737691313e-20, 7.70390078517229e-28]\n",
      "agg_probs [0.8719209038493538, 2.4925772737691313e-20, 7.70390078517229e-28]\n",
      "agg_probs [3.018114555394789, 2.1442121857769893e-19, 1.5528871426139556e-26]\n",
      "agg_probs [0.010197279647599228, 1.2880159129091077e-16, 8.888334035358874e-23]\n",
      "agg_probs [0.0, 0.006497933239253412, 0.0026152566311896525]\n",
      "agg_probs [0.0, 0.116881532143028, 1.4140909626304866e-06]\n",
      "agg_probs [0.0, 0.010791034853905809, 0.011796343212123462]\n",
      "agg_probs [0.0, 0.016161418489483735, 3.2187959373487743e-08]\n",
      "agg_probs [0.0, 0.060664416172175065, 0.0012227909622912108]\n",
      "agg_probs [0.0, 0.1322883337766711, 0.0012725681173314462]\n",
      "agg_probs [0.0, 0.027769406813244482, 8.168443298933754e-09]\n",
      "agg_probs [0.0, 0.008672336893248636, 0.0032597693309418477]\n",
      "agg_probs [0.0, 0.5599421903804301, 6.95789884809129e-05]\n",
      "agg_probs [0.0, 3.0599918155949445e-09, 0.14093557191511774]\n",
      "agg_probs [0.0, 5.68348171195289e-09, 0.17430991319724742]\n",
      "agg_probs [0.0, 1.5239413809568663e-13, 0.009851635329131062]\n",
      "agg_probs [0.0, 2.8213029425785036e-09, 0.022038693795804167]\n",
      "agg_probs [0.0, 1.2981961417966284e-17, 0.0005131443224909093]\n",
      "agg_probs [0.0, 0.01708396595613594, 0.0005166388803228843]\n",
      "agg_probs [0.0, 5.816237157993613e-07, 0.18302734091348435]\n",
      "agg_probs [0.0, 0.060840848539235055, 0.0162212971507848]\n",
      "agg_probs [0.0, 1.9925300812620014e-11, 0.07809205549131544]\n",
      "agg_probs [0.0, 6.3822911160887024e-09, 0.1084528707523832]\n",
      "Accuracy without log 0.9\n",
      "Accuracy with log 0.9\n",
      "Accuracy with majority vote 0.9333333333333333\n",
      "Accuracy with log, majority vote 0.9333333333333333\n"
     ]
    }
   ],
   "source": [
    "ens_nbc = EnsembledNBClassifier(10)\n",
    "ens_nbc.fit(train_set)\n",
    "\n",
    "accuracy = ens_nbc.predict(test_set)\n",
    "print(\"Accuracy without log\", accuracy)\n",
    "\n",
    "accuracy = ens_nbc.predict(test_set, log_prob=True)\n",
    "print(\"Accuracy with log\", accuracy)\n",
    "\n",
    "accuracy = ens_nbc.predict(test_set, log_prob=False, majority_vote=True)\n",
    "print(\"Accuracy with majority vote\", accuracy)\n",
    "\n",
    "accuracy = ens_nbc.predict(test_set, log_prob=True, majority_vote=True)\n",
    "print(\"Accuracy with log, majority vote\", accuracy)"
   ]
  },
  {
   "cell_type": "markdown",
   "metadata": {},
   "source": [
    "## 2. Implement and train Naïve Bayes classifiers"
   ]
  },
  {
   "cell_type": "code",
   "execution_count": 198,
   "metadata": {},
   "outputs": [
    {
     "ename": "NameError",
     "evalue": "name 'x' is not defined",
     "output_type": "error",
     "traceback": [
      "\u001b[1;31m---------------------------------------------------------------------------\u001b[0m",
      "\u001b[1;31mNameError\u001b[0m                                 Traceback (most recent call last)",
      "\u001b[1;32m<ipython-input-198-9b45e8424be4>\u001b[0m in \u001b[0;36m<module>\u001b[1;34m\u001b[0m\n\u001b[1;32m----> 1\u001b[1;33m \u001b[1;32mdef\u001b[0m \u001b[0mfunc\u001b[0m\u001b[1;33m(\u001b[0m\u001b[0mx\u001b[0m\u001b[1;33m,\u001b[0m \u001b[0my\u001b[0m\u001b[1;33m=\u001b[0m\u001b[1;36m2\u001b[0m\u001b[1;33m*\u001b[0m\u001b[0mx\u001b[0m\u001b[1;33m)\u001b[0m\u001b[1;33m:\u001b[0m\u001b[1;33m\u001b[0m\u001b[1;33m\u001b[0m\u001b[0m\n\u001b[0m\u001b[0;32m      2\u001b[0m     \u001b[1;32mreturn\u001b[0m \u001b[0mx\u001b[0m \u001b[1;33m+\u001b[0m \u001b[0my\u001b[0m\u001b[1;33m\u001b[0m\u001b[1;33m\u001b[0m\u001b[0m\n\u001b[0;32m      3\u001b[0m \u001b[1;33m\u001b[0m\u001b[0m\n\u001b[0;32m      4\u001b[0m \u001b[0mfunc\u001b[0m\u001b[1;33m(\u001b[0m\u001b[0mx\u001b[0m\u001b[1;33m=\u001b[0m\u001b[1;36m2\u001b[0m\u001b[1;33m)\u001b[0m\u001b[1;33m\u001b[0m\u001b[1;33m\u001b[0m\u001b[0m\n\u001b[0;32m      5\u001b[0m \u001b[1;33m\u001b[0m\u001b[0m\n",
      "\u001b[1;31mNameError\u001b[0m: name 'x' is not defined"
     ]
    }
   ],
   "source": [
    "def func(x, y=2*x):\n",
    "    return x + y\n",
    "\n",
    "func(x=2)\n",
    "        "
   ]
  },
  {
   "cell_type": "code",
   "execution_count": 206,
   "metadata": {},
   "outputs": [],
   "source": [
    "# Should I make a more generalized class, or specified for this assignment?\n",
    "class EnsempledNBClassifiers:\n",
    "    def __init__(self, datasets):\n",
    "        self.classifiers = list()\n",
    "        for dataset in datasets:\n",
    "            nbc = NaiveBayesClassifier(dataset)\n",
    "            self.classifiers.append(nbc)\n",
    "        \n",
    "    def predict(self, test_set):\n",
    "        sum_probs = 0\n",
    "        predictions = test_set.apply(lambda x: f(x[:4]), axis=1).to_numpy()\n",
    "\n",
    "    \n",
    "        "
   ]
  },
  {
   "cell_type": "code",
   "execution_count": 208,
   "metadata": {},
   "outputs": [
    {
     "name": "stdout",
     "output_type": "stream",
     "text": [
      "test [[1.01615499e-028 1.02917199e-003 2.21118356e-017 1.10939129e-266]\n",
      " [1.07387771e-020 6.26298008e-002 2.33170738e-002 3.98989135e-040]\n",
      " [1.06694610e-017 1.29321441e-002 1.64439215e-005 8.80657963e-012]]\n",
      "prob [2.56541398e-314 6.25706943e-063 1.99813890e-035]\n",
      "class prob [0.33333333 0.33333333 0.33333333]\n",
      "results [8.55137994e-315 2.08568981e-063 6.66046298e-036]\n"
     ]
    },
    {
     "data": {
      "text/plain": [
       "2"
      ]
     },
     "execution_count": 208,
     "metadata": {},
     "output_type": "execute_result"
    }
   ],
   "source": [
    "nbc.predict([1,2,3,4])"
   ]
  },
  {
   "cell_type": "code",
   "execution_count": 143,
   "metadata": {},
   "outputs": [
    {
     "data": {
      "text/plain": [
       "array([[5.006, 3.418, 1.464, 0.244],\n",
       "       [5.936, 2.77 , 4.26 , 1.326],\n",
       "       [6.588, 2.974, 5.552, 2.026]])"
      ]
     },
     "execution_count": 143,
     "metadata": {},
     "output_type": "execute_result"
    }
   ],
   "source": [
    "mu = nbc.mean_values\n",
    "mu"
   ]
  },
  {
   "cell_type": "code",
   "execution_count": 156,
   "metadata": {},
   "outputs": [
    {
     "data": {
      "text/plain": [
       "array([[0.35248969, 0.3810244 , 0.17351116, 0.1072095 ],\n",
       "       [0.51617115, 0.31379832, 0.46991098, 0.19775268],\n",
       "       [0.63587959, 0.32249664, 0.5518947 , 0.27465006]])"
      ]
     },
     "execution_count": 156,
     "metadata": {},
     "output_type": "execute_result"
    }
   ],
   "source": [
    "sd = nbc.std_values\n",
    "sd"
   ]
  },
  {
   "cell_type": "code",
   "execution_count": 167,
   "metadata": {},
   "outputs": [
    {
     "data": {
      "text/plain": [
       "0.3524896872134513"
      ]
     },
     "execution_count": 167,
     "metadata": {},
     "output_type": "execute_result"
    }
   ],
   "source": [
    "sd[0,0]"
   ]
  },
  {
   "cell_type": "code",
   "execution_count": 172,
   "metadata": {},
   "outputs": [
    {
     "data": {
      "text/plain": [
       "array([1.01615499e-028, 1.02917199e-003, 2.21118356e-017, 1.10939129e-266])"
      ]
     },
     "execution_count": 172,
     "metadata": {},
     "output_type": "execute_result"
    }
   ],
   "source": [
    "p = nbc.gaussian_pdf([1,2,3,4], mu[0,:], sd[0,:])\n",
    "p"
   ]
  },
  {
   "cell_type": "code",
   "execution_count": 173,
   "metadata": {},
   "outputs": [
    {
     "data": {
      "text/plain": [
       "2.565413981e-314"
      ]
     },
     "execution_count": 173,
     "metadata": {},
     "output_type": "execute_result"
    }
   ],
   "source": [
    "np.prod(p)"
   ]
  },
  {
   "cell_type": "code",
   "execution_count": 299,
   "metadata": {},
   "outputs": [
    {
     "data": {
      "text/plain": [
       "3"
      ]
     },
     "execution_count": 299,
     "metadata": {},
     "output_type": "execute_result"
    }
   ],
   "source": [
    "def f(x):\n",
    "    return np.log(x*x)\n",
    "\n",
    "data = [[5, 10, 5], [5, 15, 9], [5, 14, 19]]\n",
    "\n",
    "testdf = pd.DataFrame(data, columns = ['Name', 'Age', 'Trt'])\n",
    "\n",
    "data2 = pd.DataFrame([1,2,3,4,5,6,7])\n",
    "data3 = pd.DataFrame([7,6,3,4,3,2,7])\n",
    "\n",
    "(data2 == data3).sum().values\n",
    "\n",
    "sum(data2[0] == data3[0])"
   ]
  },
  {
   "cell_type": "code",
   "execution_count": 191,
   "metadata": {},
   "outputs": [
    {
     "data": {
      "text/plain": [
       "[0, 5, 0, 0]"
      ]
     },
     "execution_count": 191,
     "metadata": {},
     "output_type": "execute_result"
    }
   ],
   "source": [
    "arr = 4*[0]\n",
    "arr[1] = 5\n",
    "arr"
   ]
  },
  {
   "cell_type": "code",
   "execution_count": 289,
   "metadata": {},
   "outputs": [
    {
     "data": {
      "text/plain": [
       "[5.0, 12.80579164987494, 9.49121995802933]"
      ]
     },
     "execution_count": 289,
     "metadata": {},
     "output_type": "execute_result"
    }
   ],
   "source": [
    "data = [[5, 10, 5], [5, 15, 9], [5, 14, 19]]\n",
    "\n",
    "agg = 3*[1]\n",
    "\n",
    "for i in range(len(data[0])):\n",
    "    for j in range(len(data)):\n",
    "        agg[i] *= data[j][i]\n",
    "    agg[i] = agg[i]**(1/len(data))\n",
    "\n",
    "agg"
   ]
  },
  {
   "cell_type": "code",
   "execution_count": 285,
   "metadata": {},
   "outputs": [
    {
     "data": {
      "text/plain": [
       "1.1409183116147532"
      ]
     },
     "execution_count": 285,
     "metadata": {},
     "output_type": "execute_result"
    }
   ],
   "source": [
    "27**(1/25)"
   ]
  },
  {
   "cell_type": "code",
   "execution_count": null,
   "metadata": {},
   "outputs": [],
   "source": []
  }
 ],
 "metadata": {
  "kernelspec": {
   "display_name": "Python 3",
   "language": "python",
   "name": "python3"
  },
  "language_info": {
   "codemirror_mode": {
    "name": "ipython",
    "version": 3
   },
   "file_extension": ".py",
   "mimetype": "text/x-python",
   "name": "python",
   "nbconvert_exporter": "python",
   "pygments_lexer": "ipython3",
   "version": "3.8.5"
  }
 },
 "nbformat": 4,
 "nbformat_minor": 4
}
