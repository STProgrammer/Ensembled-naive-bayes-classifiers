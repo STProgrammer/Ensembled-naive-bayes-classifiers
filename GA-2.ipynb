{
 "cells": [
  {
   "cell_type": "markdown",
   "metadata": {},
   "source": [
    "# Answer to graded assignment 2 in DTE-2501 (AI Methods and Applications) about ensemble methods by Abdullah Karagøz"
   ]
  },
  {
   "cell_type": "markdown",
   "metadata": {},
   "source": [
    "## 1. Bootstrapping"
   ]
  },
  {
   "cell_type": "code",
   "execution_count": 3,
   "metadata": {},
   "outputs": [],
   "source": [
    "import pandas as pd\n",
    "import numpy as np\n",
    "from math import sqrt\n",
    "from math import pi\n",
    "from math import exp\n",
    "\n",
    "# Load the data\n",
    "dataset = pd.read_csv('iris.data', header=None, names=['sepal length', 'sepal width',\n",
    "                                                     'petal length', 'petal width',\n",
    "                                                     'class'])"
   ]
  },
  {
   "cell_type": "code",
   "execution_count": 4,
   "metadata": {},
   "outputs": [],
   "source": [
    "#Assign label to each class\n",
    "dataset.loc[dataset['class'] == 'Iris-setosa', dataset.columns == 'class'] = 0\n",
    "dataset.loc[dataset['class'] == 'Iris-versicolor', dataset.columns == 'class'] = 1\n",
    "dataset.loc[dataset['class'] == 'Iris-virginica', dataset.columns == 'class'] = 2"
   ]
  },
  {
   "cell_type": "code",
   "execution_count": 5,
   "metadata": {},
   "outputs": [],
   "source": [
    "# Shuffle and split data into training 80% and testing 20%\n",
    "train_set = dataset.sample(frac=0.8)\n",
    "test_set = dataset.drop(train_set.index)\n",
    "train_set.reset_index(drop=True, inplace=True)\n",
    "test_set.reset_index(drop=True, inplace=True)\n"
   ]
  },
  {
   "cell_type": "code",
   "execution_count": 6,
   "metadata": {},
   "outputs": [],
   "source": [
    "#Split training set into 7, each containing 60% of the training set.\n",
    "train_set_1 = train_set.sample(frac=0.6).reset_index(drop=True)\n",
    "train_set_2 = train_set.sample(frac=0.6).reset_index(drop=True)\n",
    "train_set_3 = train_set.sample(frac=0.6).reset_index(drop=True)\n",
    "train_set_4 = train_set.sample(frac=0.6).reset_index(drop=True)\n",
    "train_set_5 = train_set.sample(frac=0.6).reset_index(drop=True)\n",
    "train_set_6 = train_set.sample(frac=0.6).reset_index(drop=True)\n",
    "train_set_7 = train_set.sample(frac=0.6).reset_index(drop=True)"
   ]
  },
  {
   "cell_type": "code",
   "execution_count": 184,
   "metadata": {},
   "outputs": [
    {
     "data": {
      "text/html": [
       "<div>\n",
       "<style scoped>\n",
       "    .dataframe tbody tr th:only-of-type {\n",
       "        vertical-align: middle;\n",
       "    }\n",
       "\n",
       "    .dataframe tbody tr th {\n",
       "        vertical-align: top;\n",
       "    }\n",
       "\n",
       "    .dataframe thead th {\n",
       "        text-align: right;\n",
       "    }\n",
       "</style>\n",
       "<table border=\"1\" class=\"dataframe\">\n",
       "  <thead>\n",
       "    <tr style=\"text-align: right;\">\n",
       "      <th></th>\n",
       "      <th>sepal length</th>\n",
       "      <th>sepal width</th>\n",
       "      <th>petal length</th>\n",
       "      <th>petal width</th>\n",
       "    </tr>\n",
       "    <tr>\n",
       "      <th>class</th>\n",
       "      <th></th>\n",
       "      <th></th>\n",
       "      <th></th>\n",
       "      <th></th>\n",
       "    </tr>\n",
       "  </thead>\n",
       "  <tbody>\n",
       "    <tr>\n",
       "      <th>0</th>\n",
       "      <td>5.011628</td>\n",
       "      <td>3.420930</td>\n",
       "      <td>1.472093</td>\n",
       "      <td>0.248837</td>\n",
       "    </tr>\n",
       "    <tr>\n",
       "      <th>1</th>\n",
       "      <td>5.922500</td>\n",
       "      <td>2.760000</td>\n",
       "      <td>4.262500</td>\n",
       "      <td>1.320000</td>\n",
       "    </tr>\n",
       "    <tr>\n",
       "      <th>2</th>\n",
       "      <td>6.562162</td>\n",
       "      <td>2.978378</td>\n",
       "      <td>5.600000</td>\n",
       "      <td>2.029730</td>\n",
       "    </tr>\n",
       "  </tbody>\n",
       "</table>\n",
       "</div>"
      ],
      "text/plain": [
       "       sepal length  sepal width  petal length  petal width\n",
       "class                                                      \n",
       "0          5.011628     3.420930      1.472093     0.248837\n",
       "1          5.922500     2.760000      4.262500     1.320000\n",
       "2          6.562162     2.978378      5.600000     2.029730"
      ]
     },
     "execution_count": 184,
     "metadata": {},
     "output_type": "execute_result"
    }
   ],
   "source": [
    "train_set.groupby('class').mean()"
   ]
  },
  {
   "cell_type": "code",
   "execution_count": 183,
   "metadata": {},
   "outputs": [
    {
     "data": {
      "text/plain": [
       "array([0.40277778, 0.27777778, 0.31944444])"
      ]
     },
     "execution_count": 183,
     "metadata": {},
     "output_type": "execute_result"
    }
   ],
   "source": [
    "train_set_1['class'].value_counts(normalize=True).sort_index().to_numpy()"
   ]
  },
  {
   "cell_type": "markdown",
   "metadata": {},
   "source": [
    "## 2. Implement and train Naïve Bayes classifiers"
   ]
  },
  {
   "cell_type": "code",
   "execution_count": 205,
   "metadata": {},
   "outputs": [],
   "source": [
    "# Naive Bayes Classifier\n",
    "class NaiveBayesClassifier():\n",
    "    def __init__(self, dataset):\n",
    "        self.dataset = dataset\n",
    "        self.mean_values = dataset.groupby('class').mean().to_numpy()\n",
    "        self.std_values = dataset.groupby('class').std().to_numpy()\n",
    "        self.class_probabilities = dataset['class'].value_counts(normalize=True).sort_index().to_numpy()\n",
    "        self.classes = np.sort(train_set['class'].unique())\n",
    "\n",
    "    def mean(self, val_list):\n",
    "        return sum(val_list) / len(val_list)\n",
    "    \n",
    "    def std(self, val_list):\n",
    "        mu = self.mean(val_list)\n",
    "        std = sqrt(sum([(x - mu)**2 for x in val_list]) / (len(val_list)-1))\n",
    "        return std\n",
    "        \n",
    "    def gaussian_pdf(self, x, mu, sd):\n",
    "        return (1 / (sd*sqrt(2*pi))) * np.exp(-0.5*((x-mu)/sd)**2)\n",
    "    \n",
    "    \n",
    "    def get_probabilities(self, data_row):\n",
    "        probabilities = list()\n",
    "        prob = 1\n",
    "        test = self.gaussian_pdf([1,2,3,4], self.mean_values, self.std_values)\n",
    "        print(\"test\",test)\n",
    "        prob = self.gaussian_pdf(data_row, self.mean_values, self.std_values)\n",
    "        prob = np.prod(prob, axis=1)\n",
    "        print(\"prob\", prob)\n",
    "        print(\"class prob\", self.class_probabilities)\n",
    "        prob *= self.class_probabilities\n",
    "        print(\"results\", prob)\n",
    "        return prob\n",
    "    \n",
    "    def get_probabilities_log(self, data_row):\n",
    "        probabilities = list()\n",
    "        prob = 1\n",
    "        test = np.log(self.gaussian_pdf([1,2,3,4], self.mean_values, self.std_values))\n",
    "        print(\"test\",test)\n",
    "        prob = self.gaussian_pdf(data_row, self.mean_values, self.std_values)\n",
    "        prob = np.sum(prob, axis=1)\n",
    "        print(\"prob\", prob)\n",
    "        print(\"class prob\", self.class_probabilities)\n",
    "        prob += np.log(self.class_probabilities)\n",
    "        print(\"results\", prob)\n",
    "        return prob\n",
    "        \n",
    "\n",
    "    def predict(self, data_row):\n",
    "        output = self.get_probabilities(data_row)\n",
    "        return np.argmax(output)\n",
    "    \n",
    "    def predict_log(self, data_row):\n",
    "        output = self.get_probabilites(data_row)\n",
    "        return np.argmax(output)\n",
    "        "
   ]
  },
  {
   "cell_type": "code",
   "execution_count": 206,
   "metadata": {},
   "outputs": [],
   "source": [
    "# Should I make a more generalized class, or specified for this assignment?\n",
    "class EnsempledNBClassifiers:\n",
    "    def __init__(self, datasets):\n",
    "        self.classifiers = list()\n",
    "        for dataset in datasets:\n",
    "            nbc = NaiveBayesClassifier(dataset)\n",
    "            self.classifiers.append(nbc)\n",
    "        \n",
    "    def predict(self, test_set):\n",
    "        sum_probs = 0\n",
    "        \n",
    "    \n",
    "        "
   ]
  },
  {
   "cell_type": "code",
   "execution_count": 208,
   "metadata": {},
   "outputs": [
    {
     "name": "stdout",
     "output_type": "stream",
     "text": [
      "test [[1.01615499e-028 1.02917199e-003 2.21118356e-017 1.10939129e-266]\n",
      " [1.07387771e-020 6.26298008e-002 2.33170738e-002 3.98989135e-040]\n",
      " [1.06694610e-017 1.29321441e-002 1.64439215e-005 8.80657963e-012]]\n",
      "prob [2.56541398e-314 6.25706943e-063 1.99813890e-035]\n",
      "class prob [0.33333333 0.33333333 0.33333333]\n",
      "results [8.55137994e-315 2.08568981e-063 6.66046298e-036]\n"
     ]
    },
    {
     "data": {
      "text/plain": [
       "2"
      ]
     },
     "execution_count": 208,
     "metadata": {},
     "output_type": "execute_result"
    }
   ],
   "source": [
    "nbc.predict([1,2,3,4])"
   ]
  },
  {
   "cell_type": "code",
   "execution_count": 143,
   "metadata": {},
   "outputs": [
    {
     "data": {
      "text/plain": [
       "array([[5.006, 3.418, 1.464, 0.244],\n",
       "       [5.936, 2.77 , 4.26 , 1.326],\n",
       "       [6.588, 2.974, 5.552, 2.026]])"
      ]
     },
     "execution_count": 143,
     "metadata": {},
     "output_type": "execute_result"
    }
   ],
   "source": [
    "mu = nbc.mean_values\n",
    "mu"
   ]
  },
  {
   "cell_type": "code",
   "execution_count": 156,
   "metadata": {},
   "outputs": [
    {
     "data": {
      "text/plain": [
       "array([[0.35248969, 0.3810244 , 0.17351116, 0.1072095 ],\n",
       "       [0.51617115, 0.31379832, 0.46991098, 0.19775268],\n",
       "       [0.63587959, 0.32249664, 0.5518947 , 0.27465006]])"
      ]
     },
     "execution_count": 156,
     "metadata": {},
     "output_type": "execute_result"
    }
   ],
   "source": [
    "sd = nbc.std_values\n",
    "sd"
   ]
  },
  {
   "cell_type": "code",
   "execution_count": 167,
   "metadata": {},
   "outputs": [
    {
     "data": {
      "text/plain": [
       "0.3524896872134513"
      ]
     },
     "execution_count": 167,
     "metadata": {},
     "output_type": "execute_result"
    }
   ],
   "source": [
    "sd[0,0]"
   ]
  },
  {
   "cell_type": "code",
   "execution_count": 172,
   "metadata": {},
   "outputs": [
    {
     "data": {
      "text/plain": [
       "array([1.01615499e-028, 1.02917199e-003, 2.21118356e-017, 1.10939129e-266])"
      ]
     },
     "execution_count": 172,
     "metadata": {},
     "output_type": "execute_result"
    }
   ],
   "source": [
    "p = nbc.gaussian_pdf([1,2,3,4], mu[0,:], sd[0,:])\n",
    "p"
   ]
  },
  {
   "cell_type": "code",
   "execution_count": 173,
   "metadata": {},
   "outputs": [
    {
     "data": {
      "text/plain": [
       "2.565413981e-314"
      ]
     },
     "execution_count": 173,
     "metadata": {},
     "output_type": "execute_result"
    }
   ],
   "source": [
    "np.prod(p)"
   ]
  },
  {
   "cell_type": "code",
   "execution_count": null,
   "metadata": {},
   "outputs": [],
   "source": []
  }
 ],
 "metadata": {
  "kernelspec": {
   "display_name": "Python 3",
   "language": "python",
   "name": "python3"
  },
  "language_info": {
   "codemirror_mode": {
    "name": "ipython",
    "version": 3
   },
   "file_extension": ".py",
   "mimetype": "text/x-python",
   "name": "python",
   "nbconvert_exporter": "python",
   "pygments_lexer": "ipython3",
   "version": "3.8.5"
  }
 },
 "nbformat": 4,
 "nbformat_minor": 4
}
