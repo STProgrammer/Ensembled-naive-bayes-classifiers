{
 "cells": [
  {
   "cell_type": "code",
   "execution_count": 1,
   "id": "2006d71e",
   "metadata": {
    "ExecuteTime": {
     "end_time": "2021-11-26T16:34:37.755720Z",
     "start_time": "2021-11-26T16:34:35.900441Z"
    }
   },
   "outputs": [],
   "source": [
    "import pandas as pd\n",
    "import numpy as np\n",
    "import matplotlib.pyplot as plt \n",
    "\n",
    "\n",
    "from sklearn.naive_bayes import GaussianNB\n",
    "from sklearn.ensemble import BaggingClassifier\n",
    "from sklearn.metrics import classification_report\n",
    "\n",
    "seed=42"
   ]
  },
  {
   "cell_type": "markdown",
   "id": "c5b336a8",
   "metadata": {},
   "source": [
    "# Examine Marginals for Iris Dataset"
   ]
  },
  {
   "cell_type": "code",
   "execution_count": 2,
   "id": "18690146",
   "metadata": {
    "ExecuteTime": {
     "end_time": "2021-11-25T10:35:24.862504Z",
     "start_time": "2021-11-25T10:35:24.849279Z"
    }
   },
   "outputs": [],
   "source": [
    "dataset = pd.read_csv('iris.data', header=None, names=['sepal length', 'sepal width',\n",
    "                                                     'petal length', 'petal width',\n",
    "                                                     'class'])"
   ]
  },
  {
   "cell_type": "code",
   "execution_count": 3,
   "id": "5b4ece5a",
   "metadata": {
    "ExecuteTime": {
     "end_time": "2021-11-25T10:35:25.050387Z",
     "start_time": "2021-11-25T10:35:25.037338Z"
    }
   },
   "outputs": [],
   "source": [
    "#Assign label to each class\n",
    "dataset.loc[dataset['class'] == 'Iris-setosa', dataset.columns == 'class'] = 0\n",
    "dataset.loc[dataset['class'] == 'Iris-versicolor', dataset.columns == 'class'] = 1\n",
    "dataset.loc[dataset['class'] == 'Iris-virginica', dataset.columns == 'class'] = 2"
   ]
  },
  {
   "cell_type": "code",
   "execution_count": 4,
   "id": "cc0d8726",
   "metadata": {
    "ExecuteTime": {
     "end_time": "2021-11-25T10:35:25.330769Z",
     "start_time": "2021-11-25T10:35:25.321402Z"
    }
   },
   "outputs": [],
   "source": [
    "# train/test split\n",
    "train_test_split = 0.8\n",
    "\n",
    "# Shuffle and split data into training 80% and testing 20%\n",
    "train_set = dataset.sample(frac=train_test_split, random_state=seed)\n",
    "test_set = dataset.drop(train_set.index)\n",
    "train_set.reset_index(drop=True, inplace=True)\n",
    "test_set.reset_index(drop=True, inplace=True)\n",
    "\n",
    "X_train = train_set.iloc[:,:-1].to_numpy()\n",
    "y_train = train_set.iloc[:,-1].to_numpy().astype('int')\n",
    "X_test = test_set.iloc[:,:-1].to_numpy()\n",
    "y_test = test_set.iloc[:,-1].to_numpy().astype('int')\n"
   ]
  },
  {
   "cell_type": "code",
   "execution_count": 5,
   "id": "6daa7139",
   "metadata": {
    "ExecuteTime": {
     "end_time": "2021-11-25T10:35:25.896596Z",
     "start_time": "2021-11-25T10:35:25.884733Z"
    }
   },
   "outputs": [
    {
     "data": {
      "text/plain": [
       "((120, 4), (120,), (30, 4), (30,))"
      ]
     },
     "execution_count": 5,
     "metadata": {},
     "output_type": "execute_result"
    }
   ],
   "source": [
    "X_train.shape, y_train.shape, X_test.shape, y_test.shape"
   ]
  },
  {
   "cell_type": "code",
   "execution_count": 6,
   "id": "48b73bce",
   "metadata": {
    "ExecuteTime": {
     "end_time": "2021-11-25T10:35:26.615183Z",
     "start_time": "2021-11-25T10:35:26.609972Z"
    }
   },
   "outputs": [],
   "source": [
    "nb = GaussianNB()\n",
    "\n",
    "nb.fit(X_train, y_train)\n",
    "y_pred = nb.predict(X_test).reshape(-1,1)\n",
    "y_prob = nb.predict_proba(X_test)"
   ]
  },
  {
   "cell_type": "code",
   "execution_count": 7,
   "id": "c47067c8",
   "metadata": {
    "ExecuteTime": {
     "end_time": "2021-11-25T10:43:20.452710Z",
     "start_time": "2021-11-25T10:43:20.446575Z"
    }
   },
   "outputs": [
    {
     "data": {
      "text/plain": [
       "array([1.        , 1.        , 1.        , 1.        , 1.        ,\n",
       "       1.        , 1.        , 0.5052736 , 0.99999982, 0.99059606,\n",
       "       0.9997963 , 0.99843045, 0.99925056, 0.99982903, 0.9998983 ,\n",
       "       0.9910551 , 0.99996625, 0.99986092, 0.99999924, 0.99534987,\n",
       "       0.98589516, 0.99999641, 0.9959176 , 0.95708665, 0.99999555,\n",
       "       0.99881206, 0.99999744, 0.99999994, 1.        , 0.88513258])"
      ]
     },
     "execution_count": 7,
     "metadata": {},
     "output_type": "execute_result"
    }
   ],
   "source": [
    "maxprobs = np.max(y_prob,axis=1)\n",
    "maxprobs"
   ]
  },
  {
   "cell_type": "code",
   "execution_count": 8,
   "id": "f0a20cb5",
   "metadata": {
    "ExecuteTime": {
     "end_time": "2021-11-25T10:37:53.813386Z",
     "start_time": "2021-11-25T10:37:53.598690Z"
    }
   },
   "outputs": [
    {
     "data": {
      "image/png": "[encoded data removed]",
      "text/plain": [
       "<Figure size 432x288 with 1 Axes>"
      ]
     },
     "metadata": {
      "needs_background": "light"
     },
     "output_type": "display_data"
    }
   ],
   "source": [
    "plt.hist(maxprobs);"
   ]
  },
  {
   "cell_type": "markdown",
   "id": "a78c4ee8",
   "metadata": {
    "ExecuteTime": {
     "end_time": "2021-11-25T10:34:10.009532Z",
     "start_time": "2021-11-25T10:34:10.005560Z"
    }
   },
   "source": [
    "# Examine Marginals for Diabetes Dataset"
   ]
  },
  {
   "cell_type": "code",
   "execution_count": 9,
   "id": "d0f45a66",
   "metadata": {
    "ExecuteTime": {
     "end_time": "2021-11-26T16:34:39.984524Z",
     "start_time": "2021-11-26T16:34:39.962883Z"
    }
   },
   "outputs": [
    {
     "name": "stdout",
     "output_type": "stream",
     "text": [
      "shape of ionosphere features/labels:  (768, 8) (768,)\n",
      "eyeball first few feature rows...\n",
      "[[  6.    148.     72.     35.      0.     33.6     0.627  50.   ]\n",
      " [  1.     85.     66.     29.      0.     26.6     0.351  31.   ]\n",
      " [  8.    183.     64.      0.      0.     23.3     0.672  32.   ]]\n",
      "eyeball first few label rows...\n",
      "[1 0 1] unique labels  [0 1]\n"
     ]
    }
   ],
   "source": [
    "# acquire the ionosphere dataset and sanity check\n",
    "ionosphere = np.genfromtxt('pima-indians-diabetes.csv', delimiter=',')\n",
    "ion_X = ionosphere[:,:-1]\n",
    "ion_y = np.array(ionosphere[:,-1],dtype='int')\n",
    "ion_labels = np.unique(ion_y)\n",
    "\n",
    "print('shape of ionosphere features/labels: ', ion_X.shape, ion_y.shape)\n",
    "print('eyeball first few feature rows...')\n",
    "print(ion_X[:3])\n",
    "print('eyeball first few label rows...')\n",
    "print(ion_y[:3], 'unique labels ', ion_labels)"
   ]
  },
  {
   "cell_type": "code",
   "execution_count": 32,
   "id": "dc912ba7",
   "metadata": {
    "ExecuteTime": {
     "end_time": "2021-11-26T16:34:41.337392Z",
     "start_time": "2021-11-26T16:34:41.324925Z"
    }
   },
   "outputs": [
    {
     "data": {
      "text/html": [
       "<div>\n",
       "<style scoped>\n",
       "    .dataframe tbody tr th:only-of-type {\n",
       "        vertical-align: middle;\n",
       "    }\n",
       "\n",
       "    .dataframe tbody tr th {\n",
       "        vertical-align: top;\n",
       "    }\n",
       "\n",
       "    .dataframe thead th {\n",
       "        text-align: right;\n",
       "    }\n",
       "</style>\n",
       "<table border=\"1\" class=\"dataframe\">\n",
       "  <thead>\n",
       "    <tr style=\"text-align: right;\">\n",
       "      <th></th>\n",
       "      <th>6</th>\n",
       "      <th>148</th>\n",
       "      <th>72</th>\n",
       "      <th>35</th>\n",
       "      <th>0</th>\n",
       "      <th>33.6</th>\n",
       "      <th>0.627</th>\n",
       "      <th>50</th>\n",
       "      <th>1</th>\n",
       "    </tr>\n",
       "  </thead>\n",
       "  <tbody>\n",
       "    <tr>\n",
       "      <th>0</th>\n",
       "      <td>1</td>\n",
       "      <td>85</td>\n",
       "      <td>66</td>\n",
       "      <td>29</td>\n",
       "      <td>0</td>\n",
       "      <td>26.6</td>\n",
       "      <td>0.351</td>\n",
       "      <td>31</td>\n",
       "      <td>0</td>\n",
       "    </tr>\n",
       "    <tr>\n",
       "      <th>1</th>\n",
       "      <td>8</td>\n",
       "      <td>183</td>\n",
       "      <td>64</td>\n",
       "      <td>0</td>\n",
       "      <td>0</td>\n",
       "      <td>23.3</td>\n",
       "      <td>0.672</td>\n",
       "      <td>32</td>\n",
       "      <td>1</td>\n",
       "    </tr>\n",
       "    <tr>\n",
       "      <th>2</th>\n",
       "      <td>1</td>\n",
       "      <td>89</td>\n",
       "      <td>66</td>\n",
       "      <td>23</td>\n",
       "      <td>94</td>\n",
       "      <td>28.1</td>\n",
       "      <td>0.167</td>\n",
       "      <td>21</td>\n",
       "      <td>0</td>\n",
       "    </tr>\n",
       "    <tr>\n",
       "      <th>3</th>\n",
       "      <td>0</td>\n",
       "      <td>137</td>\n",
       "      <td>40</td>\n",
       "      <td>35</td>\n",
       "      <td>168</td>\n",
       "      <td>43.1</td>\n",
       "      <td>2.288</td>\n",
       "      <td>33</td>\n",
       "      <td>1</td>\n",
       "    </tr>\n",
       "    <tr>\n",
       "      <th>4</th>\n",
       "      <td>5</td>\n",
       "      <td>116</td>\n",
       "      <td>74</td>\n",
       "      <td>0</td>\n",
       "      <td>0</td>\n",
       "      <td>25.6</td>\n",
       "      <td>0.201</td>\n",
       "      <td>30</td>\n",
       "      <td>0</td>\n",
       "    </tr>\n",
       "    <tr>\n",
       "      <th>...</th>\n",
       "      <td>...</td>\n",
       "      <td>...</td>\n",
       "      <td>...</td>\n",
       "      <td>...</td>\n",
       "      <td>...</td>\n",
       "      <td>...</td>\n",
       "      <td>...</td>\n",
       "      <td>...</td>\n",
       "      <td>...</td>\n",
       "    </tr>\n",
       "    <tr>\n",
       "      <th>762</th>\n",
       "      <td>10</td>\n",
       "      <td>101</td>\n",
       "      <td>76</td>\n",
       "      <td>48</td>\n",
       "      <td>180</td>\n",
       "      <td>32.9</td>\n",
       "      <td>0.171</td>\n",
       "      <td>63</td>\n",
       "      <td>0</td>\n",
       "    </tr>\n",
       "    <tr>\n",
       "      <th>763</th>\n",
       "      <td>2</td>\n",
       "      <td>122</td>\n",
       "      <td>70</td>\n",
       "      <td>27</td>\n",
       "      <td>0</td>\n",
       "      <td>36.8</td>\n",
       "      <td>0.340</td>\n",
       "      <td>27</td>\n",
       "      <td>0</td>\n",
       "    </tr>\n",
       "    <tr>\n",
       "      <th>764</th>\n",
       "      <td>5</td>\n",
       "      <td>121</td>\n",
       "      <td>72</td>\n",
       "      <td>23</td>\n",
       "      <td>112</td>\n",
       "      <td>26.2</td>\n",
       "      <td>0.245</td>\n",
       "      <td>30</td>\n",
       "      <td>0</td>\n",
       "    </tr>\n",
       "    <tr>\n",
       "      <th>765</th>\n",
       "      <td>1</td>\n",
       "      <td>126</td>\n",
       "      <td>60</td>\n",
       "      <td>0</td>\n",
       "      <td>0</td>\n",
       "      <td>30.1</td>\n",
       "      <td>0.349</td>\n",
       "      <td>47</td>\n",
       "      <td>1</td>\n",
       "    </tr>\n",
       "    <tr>\n",
       "      <th>766</th>\n",
       "      <td>1</td>\n",
       "      <td>93</td>\n",
       "      <td>70</td>\n",
       "      <td>31</td>\n",
       "      <td>0</td>\n",
       "      <td>30.4</td>\n",
       "      <td>0.315</td>\n",
       "      <td>23</td>\n",
       "      <td>0</td>\n",
       "    </tr>\n",
       "  </tbody>\n",
       "</table>\n",
       "<p>767 rows × 9 columns</p>\n",
       "</div>"
      ],
      "text/plain": [
       "      6  148  72  35    0  33.6  0.627  50  1\n",
       "0     1   85  66  29    0  26.6  0.351  31  0\n",
       "1     8  183  64   0    0  23.3  0.672  32  1\n",
       "2     1   89  66  23   94  28.1  0.167  21  0\n",
       "3     0  137  40  35  168  43.1  2.288  33  1\n",
       "4     5  116  74   0    0  25.6  0.201  30  0\n",
       "..   ..  ...  ..  ..  ...   ...    ...  .. ..\n",
       "762  10  101  76  48  180  32.9  0.171  63  0\n",
       "763   2  122  70  27    0  36.8  0.340  27  0\n",
       "764   5  121  72  23  112  26.2  0.245  30  0\n",
       "765   1  126  60   0    0  30.1  0.349  47  1\n",
       "766   1   93  70  31    0  30.4  0.315  23  0\n",
       "\n",
       "[767 rows x 9 columns]"
      ]
     },
     "execution_count": 32,
     "metadata": {},
     "output_type": "execute_result"
    }
   ],
   "source": [
    "dataset = pd.read_csv('pima-indians-diabetes2.csv')\n",
    "dataset"
   ]
  },
  {
   "cell_type": "code",
   "execution_count": 18,
   "id": "61c3ad94",
   "metadata": {
    "ExecuteTime": {
     "end_time": "2021-11-26T16:34:48.152469Z",
     "start_time": "2021-11-26T16:34:48.136251Z"
    }
   },
   "outputs": [
    {
     "name": "stdout",
     "output_type": "stream",
     "text": [
      "              precision    recall  f1-score   support\n",
      "\n",
      "           0       0.81      0.84      0.83       103\n",
      "           1       0.65      0.60      0.63        50\n",
      "\n",
      "    accuracy                           0.76       153\n",
      "   macro avg       0.73      0.72      0.73       153\n",
      "weighted avg       0.76      0.76      0.76       153\n",
      "\n"
     ]
    }
   ],
   "source": [
    "bagcls = BaggingClassifier(base_estimator=GaussianNB(),n_estimators=1,random_state=seed)\n",
    "bagcls.fit(X_train,y_train)\n",
    "y_pred = bagcls.predict(X_test).reshape(-1,1)\n",
    "y_prob = bagcls.predict_proba(X_test)\n",
    "print(classification_report(y_test,y_pred))"
   ]
  },
  {
   "cell_type": "code",
   "execution_count": 19,
   "id": "982c878f",
   "metadata": {
    "ExecuteTime": {
     "end_time": "2021-11-26T16:37:34.324975Z",
     "start_time": "2021-11-26T16:37:33.939212Z"
    }
   },
   "outputs": [
    {
     "name": "stdout",
     "output_type": "stream",
     "text": [
      "              precision    recall  f1-score   support\n",
      "\n",
      "           0       0.82      0.87      0.85       103\n",
      "           1       0.70      0.60      0.65        50\n",
      "\n",
      "    accuracy                           0.78       153\n",
      "   macro avg       0.76      0.74      0.75       153\n",
      "weighted avg       0.78      0.78      0.78       153\n",
      "\n"
     ]
    }
   ],
   "source": [
    "bagcls = BaggingClassifier(base_estimator=GaussianNB(),n_estimators=100,random_state=seed)\n",
    "bagcls.fit(X_train,y_train)\n",
    "y_pred = bagcls.predict(X_test).reshape(-1,1)\n",
    "y_prob = bagcls.predict_proba(X_test)\n",
    "print(classification_report(y_test,y_pred))"
   ]
  },
  {
   "cell_type": "code",
   "execution_count": 66,
   "id": "ec7a9b63",
   "metadata": {
    "ExecuteTime": {
     "end_time": "2021-11-25T11:03:31.803887Z",
     "start_time": "2021-11-25T11:03:31.791524Z"
    }
   },
   "outputs": [
    {
     "data": {
      "text/plain": [
       "0.7712418300653595"
      ]
     },
     "execution_count": 66,
     "metadata": {},
     "output_type": "execute_result"
    }
   ],
   "source": [
    "bagcls.score(X_test,y_test)"
   ]
  },
  {
   "cell_type": "code",
   "execution_count": null,
   "id": "a3e5b04d",
   "metadata": {},
   "outputs": [],
   "source": []
  }
 ],
 "metadata": {
  "kernelspec": {
   "display_name": "Python 3",
   "language": "python",
   "name": "python3"
  },
  "language_info": {
   "codemirror_mode": {
    "name": "ipython",
    "version": 3
   },
   "file_extension": ".py",
   "mimetype": "text/x-python",
   "name": "python",
   "nbconvert_exporter": "python",
   "pygments_lexer": "ipython3",
   "version": "3.8.5"
  },
  "toc": {
   "base_numbering": 1,
   "nav_menu": {},
   "number_sections": true,
   "sideBar": true,
   "skip_h1_title": false,
   "title_cell": "Table of Contents",
   "title_sidebar": "Contents",
   "toc_cell": false,
   "toc_position": {},
   "toc_section_display": true,
   "toc_window_display": false
  }
 },
 "nbformat": 4,
 "nbformat_minor": 5
}
